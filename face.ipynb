{
 "cells": [
  {
   "cell_type": "code",
   "execution_count": null,
   "id": "757818a6",
   "metadata": {},
   "outputs": [
    {
     "name": "stdout",
     "output_type": "stream",
     "text": [
      "Found 15 images belonging to 3 classes.\n",
      "['leonard', 'outros', 'sheldon']\n",
      "\u001b[1m1/1\u001b[0m \u001b[32m━━━━━━━━━━━━━━━━━━━━\u001b[0m\u001b[37m\u001b[0m \u001b[1m3s\u001b[0m 3s/step\n"
     ]
    }
   ],
   "source": [
    "import cv2\n",
    "import numpy as np\n",
    "from tensorflow.keras.preprocessing import image\n",
    "from tensorflow.keras.models import load_model\n",
    "from tensorflow.keras.preprocessing.image import ImageDataGenerator\n",
    "\n",
    "# Carregar modelo salvo em formato .keras\n",
    "model = load_model('model.keras')\n",
    "\n",
    "# Mapeamento das classes (ajuste conforme seu dataset)\n",
    "\n",
    "\n",
    "datagen = ImageDataGenerator(rescale=1./255)\n",
    "train_generator = datagen.flow_from_directory(\n",
    "    'dataset/treino',\n",
    "    target_size=(299, 299),\n",
    "    batch_size=8,\n",
    "    class_mode='categorical'\n",
    ")\n",
    "\n",
    "# Recuperar os nomes das classes\n",
    "classes = list(train_generator.class_indices.keys())\n",
    "print(classes)\n",
    "\n",
    "\n",
    "# Carregar classificador de rosto do OpenCV\n",
    "face_cascade = cv2.CascadeClassifier(cv2.data.haarcascades + 'haarcascade_frontalface_default.xml')\n",
    "\n",
    "# Carregar imagem\n",
    "img = cv2.imread('imgtest/bbb.jpg')\n",
    "gray = cv2.cvtColor(img, cv2.COLOR_BGR2GRAY)\n",
    "\n",
    "# Detectar rostos\n",
    "faces = face_cascade.detectMultiScale(gray, 1.3, 5)\n",
    "\n",
    "for (x, y, w, h) in faces:\n",
    "    # Recortar o rosto detectado\n",
    "    face = img[y:y+h, x:x+w]\n",
    "    face_resized = cv2.resize(face, (299, 299))  # InceptionResNetV2 = 299x299\n",
    "    face_array = image.img_to_array(face_resized) / 255.0\n",
    "    face_array = np.expand_dims(face_array, axis=0)\n",
    "\n",
    "    # Fazer predição\n",
    "    pred = model.predict(face_array)\n",
    "    label = classes[np.argmax(pred)]\n",
    "    confidence = np.max(pred)\n",
    "\n",
    "    # Desenhar o retângulo e o nome\n",
    "    color = (0, 255, 0) if confidence > 0.6 else (0, 0, 255)\n",
    "    cv2.rectangle(img, (x, y), (x+w, y+h), color, 2)\n",
    "    cv2.putText(img, f\"{label} ({confidence:.2f})\", (x, y-10),\n",
    "                cv2.FONT_HERSHEY_SIMPLEX, 0.9, color, 2)\n",
    "\n",
    "# Exibir resultado\n",
    "cv2.imshow('Reconhecimento Facial', img)\n",
    "cv2.waitKey(0)\n",
    "cv2.destroyAllWindows()\n"
   ]
  }
 ],
 "metadata": {
  "kernelspec": {
   "display_name": "venv310",
   "language": "python",
   "name": "python3"
  },
  "language_info": {
   "codemirror_mode": {
    "name": "ipython",
    "version": 3
   },
   "file_extension": ".py",
   "mimetype": "text/x-python",
   "name": "python",
   "nbconvert_exporter": "python",
   "pygments_lexer": "ipython3",
   "version": "3.10.0"
  }
 },
 "nbformat": 4,
 "nbformat_minor": 5
}
